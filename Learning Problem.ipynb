{
 "cells": [
  {
   "cell_type": "markdown",
   "metadata": {},
   "source": [
    "# Lecture 1: The Learning Problem\n",
    "\n",
    "Lecture 1 is the brief introduction of the course. It answered the question of “what is learning”. So the essence of learning is that:\n",
    "\n",
    "A pattern exists, which we are trying to find\n",
    "We cannot pin it down mathematically (otherwise we would not need to “learn”)\n",
    "We have data\n",
    "And a learning problem can be formalized as:\n",
    "\n",
    "- Input: $\\mathbf{x}$\n",
    "- Output: $y$\n",
    "- Target function: $f: X \\rightarrow Y$ which we do not know\n",
    "- Data: $\\left\\{ (\\mathbf{x}_1, y_1), \\cdots,  (\\mathbf{x}_n, y_n), \\cdots, (\\mathbf{x}_N, y_N) \\right\\}$\n",
    "- Final hypothesis: $g: X \\rightarrow Y, g \\in H$ that approximates the target $f$ \n",
    "\n",
    "A chart in the course slides shows the concept:\n",
    "\n",
    "The Learning Problem\n",
    "\n",
    " \n",
    "\n",
    "The **Hypothesis Set** $H$ and the **Learning Algorithm** $A$\n",
    "together are referred as the **learning model**\n",
    "\n",
    "Then the simplest example of learning is the **perceptron**, its linear formula \n",
    "$h \\in H$ can be written as:\n",
    "\n",
    "$$h(\\mathbf{x}) = sign(\\sum_{i=1}^d w_i x_i - \\theta)$$\n",
    "\n",
    "where $\\theta$ represents the threshold.\n",
    "\n",
    "If we introduce the dummy feature $x_0 = 1$ then we can rewrite this expression as\n",
    "\n",
    "$$h(\\mathbf{x}) = sign(\\sum_{i=0}^d w_i x_i)$$ where $w_0 = - \\theta$\n",
    "\n",
    "or equivalently,\n",
    "\n",
    "$$h(\\mathbf{x}) = sign(\\mathbf{w}^\\top \\mathbf{x}) \\triangleq sign(\\mathbf{w} .\\mathbf{x})$$\n",
    "\n",
    "The concept of perceptron’s learning algorithm is rather intuitive, that it tries to correct a random misclassified point $\\mathbf{x}_n$ with label $y_n$  every iteration, by:\n",
    "\n",
    "$$ \\mathbf{w} = \\mathbf{w} + y_n \\mathbf{x}_n$$\n",
    "\n",
    "The correction can be visualized as the following:\n",
    "\n"
   ]
  },
  {
   "cell_type": "markdown",
   "metadata": {},
   "source": []
  }
 ],
 "metadata": {
  "kernelspec": {
   "display_name": "Python 3",
   "language": "python",
   "name": "python3"
  },
  "language_info": {
   "codemirror_mode": {
    "name": "ipython",
    "version": 3
   },
   "file_extension": ".py",
   "mimetype": "text/x-python",
   "name": "python",
   "nbconvert_exporter": "python",
   "pygments_lexer": "ipython3",
   "version": "3.7.3"
  }
 },
 "nbformat": 4,
 "nbformat_minor": 2
}
